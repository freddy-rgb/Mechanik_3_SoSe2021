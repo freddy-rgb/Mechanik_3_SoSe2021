{
  "nbformat": 4,
  "nbformat_minor": 0,
  "metadata": {
    "colab": {
      "name": "Tutorium_5.ipynb",
      "provenance": [],
      "collapsed_sections": []
    },
    "kernelspec": {
      "name": "python3",
      "display_name": "Python 3"
    },
    "language_info": {
      "name": "python"
    }
  },
  "cells": [
    {
      "cell_type": "markdown",
      "metadata": {
        "id": "5TOlCCjvMTLJ"
      },
      "source": [
        "# Einführung \n",
        "Autor: Frederik Rentzsch, \n",
        "\n",
        "Bei Fragen und Anmerkungen bitte eine Mail an f.rentzsch@tu-berlin.de\n",
        "\n",
        "\\\\\n",
        "\n",
        "In diesem Notebook werden wir sehen, wie man mit dem Lagrange-Formalismus und der Hilfe von `SymPy` die Aufstellung von Bewegungsgleichungen automatisieren kann. Da die Bewegungsgleichungen in der Regel nicht analytisch gelöst werden können, wird im Anschluss daran kurz auf die numerische Lösung von Bewegungsgleichungen eingegangen.  \n",
        "\n",
        "# Automatische Generierung der Bewegungsgleichung mit dem Lagrange-Formalismus\n",
        "\n",
        "Wir zeigen zunächst wie man den Prozess aus dem Tutorium, d.h. das Aufstellen von Bewegungsgleichungen mit dem Lagrange-Formalismus mithilfe von `SymPy` automatisieren kann. Als Beispiel soll uns hierfür die 3. Aufgabe aus dem 5. Tutorium herhalten. \n",
        "Zunächst müssen wir die Systemparameter und die unabhängige Variable, die Zeit $t$ definieren. Im Anschluss daran wird die generalisierte Koordinate, der Winkel $\\varphi$ erstellt. Danach verwenden wir hauptsächlich die Funktionen `Matrix` (zum Erstellen von Vektoren), `diff` (zum Ableiten) und `dot` (zum Berechnen des Skalarprodukts). "
      ]
    },
    {
      "cell_type": "code",
      "metadata": {
        "colab": {
          "base_uri": "https://localhost:8080/",
          "height": 68
        },
        "id": "6QRonlMWAZSc",
        "outputId": "bd70a7ab-808f-487a-ee0f-564a5f070336"
      },
      "source": [
        "from sympy import *\n",
        "\n",
        "# Parameter\n",
        "m1, m2, g, l, t = symbols('m1 m2 g l t')\n",
        "# Generalisierte Koordinate\n",
        "phi = Function('varphi')(t)\n",
        "dphi = diff(phi,t)\n",
        "\n",
        "# Ortvektoren \n",
        "r1 = Matrix([0, 2*l*cos(phi)]) \n",
        "r2 = l*Matrix([sin(phi), cos(phi)])\n",
        "\n",
        "# Geschwindigkeitsvektoren\n",
        "v1 = diff(r1,t)\n",
        "v2 = diff(r2,t)\n",
        "\n",
        "# Kinetische Energie\n",
        "T = 1/2*m1*v1.dot(v1) + 1/2*m2*v2.dot(v2)\n",
        "\n",
        "# Potentielle Energie (Achtung: r1[1] liefert den 2. Eintrag (also den y-Wert) von r1 und NICHT den 1.)\n",
        "U = m1*g*r1[1] + m2*g*r2[1]\n",
        "\n",
        "# Lagrange-Funktion\n",
        "L = T - U\n",
        "\n",
        "# Lagrange-Gleichungen 2. Art liefern die Bewegungsgleichungen (hier nur eine)\n",
        "Eq(diff(L,dphi,t) - diff(L,phi), 0)"
      ],
      "execution_count": 15,
      "outputs": [
        {
          "output_type": "execute_result",
          "data": {
            "text/latex": "$\\displaystyle l \\left(- 2.0 g m_{1} \\sin{\\left(\\varphi{\\left(t \\right)} \\right)} - 1.0 g m_{2} \\sin{\\left(\\varphi{\\left(t \\right)} \\right)} + 2.0 l m_{1} \\sin{\\left(2 \\varphi{\\left(t \\right)} \\right)} \\left(\\frac{d}{d t} \\varphi{\\left(t \\right)}\\right)^{2} - 2.0 l m_{1} \\cos{\\left(2 \\varphi{\\left(t \\right)} \\right)} \\frac{d^{2}}{d t^{2}} \\varphi{\\left(t \\right)} + 2.0 l m_{1} \\frac{d^{2}}{d t^{2}} \\varphi{\\left(t \\right)} + 1.0 l m_{2} \\frac{d^{2}}{d t^{2}} \\varphi{\\left(t \\right)}\\right)$",
            "text/plain": [
              "l*(-2.0*g*m1*sin(varphi(t)) - 1.0*g*m2*sin(varphi(t)) + 2.0*l*m1*sin(2*varphi(t))*Derivative(varphi(t), t)**2 - 2.0*l*m1*cos(2*varphi(t))*Derivative(varphi(t), (t, 2)) + 2.0*l*m1*Derivative(varphi(t), (t, 2)) + 1.0*l*m2*Derivative(varphi(t), (t, 2)))"
            ]
          },
          "metadata": {
            "tags": []
          },
          "execution_count": 15
        }
      ]
    },
    {
      "cell_type": "markdown",
      "metadata": {
        "id": "iboIwdXgPbNc"
      },
      "source": [
        "An diesem Ergebnis können wir offenbar noch ein paar Vereinfachungen (z.B. $\\sin^2\\varphi+\\cos^2\\varphi = 1$) vornehmen, weshalb sich die Darstellung hier von der im Tutorium unterscheidet. Insgesamt ist es aber nicht schwer zu erkennen, dass die beiden Darstellungen der Bewegungsgleichung äquivalent sind."
      ]
    },
    {
      "cell_type": "markdown",
      "metadata": {
        "id": "xeve2Zpw9m8W"
      },
      "source": [
        "# Numerische Integration mit dem expliziten Euler-Verfahren\n",
        "\n",
        "\n",
        "Als nächstes wird das [explizite Euler-Verfahren](https://de.wikipedia.org/wiki/Explizites_Euler-Verfahren), mit dem die numerische Integration von Bewegungsgleichungen erfolgen kann, vorgestellt. Zur Erklärung des Verfahrens nehmen wir an, dass die zu integrierende Differentialgleichung in der Form \n",
        "\n",
        "$$\n",
        "\\begin{cases}\n",
        "  \\dot{\\vec{x}}(t) = \\vec{f}(\\vec{x}(t)) \\, , \\\\\n",
        "  \\vec{x}(0) = \\vec{x}_0 \n",
        "\\end{cases}\n",
        "$$\n",
        "\n",
        "vorliegt, es sich also um ein (explizites, autonomes) Differentialgleichungssystem 1. Ordnung handelt. Formal können wir dieses integrieren und erhalten zunächst \n",
        "\n",
        "$$\n",
        "\\vec{x}(t) = \\vec{x}_0 + \\int_0^t \\vec{f}(\\vec{x}(\\tau)) d \\tau \\, .\n",
        "$$\n",
        "\n",
        "Sind wir in der vorteilhaften (aber unwahrscheinlichen) Lage eine Stammfunktion von $\\vec{f}$ zu kennen, sind wir an dieser Stelle fertig. In den meisten (interessanten) Fällen können wir jedoch keine Stammfunktion von $\\vec{f}$ angeben (oder diese ist so kompliziert, dass wir sie nicht angeben möchten), weshalb wir uns oft mit einer numerischen Näherungslösung begnügen müssen.\n",
        "Für die numerische Lösung wird die Zeitachse in $n \\in \\mathbb{N}$ äquidistante Stützstellen \n",
        "\n",
        "$$\n",
        "t_i = h i \\, , \\quad i = 0, \\dots, n\n",
        "$$\n",
        "\n",
        "mit der Schrittweite $h$ unterteilt. Damit lässt sich die Lösung an den Stützstellen als Rekursionsgleichung \n",
        "\n",
        "$$\n",
        "\\vec{x}(t_{i+1}) = \\underbrace{\\vec{x}_0 + \\int_0^{t_i} \\vec{f} (\\vec{x}(t)) dt}_{\\vec{x}(t_i)} + \\int_{t_i}^{t_{i+1}} \\vec{f}(\\vec{x}(t)) dt \\, , \\quad i = 0, \\dots, n-1\n",
        "$$\n",
        "\n",
        "aufschreiben. Für hinreichend kleines $h$ gilt näherungsweise \n",
        "\n",
        "$$\n",
        "\\int_{t_i}^{t_{i+1}} \\vec{f}(\\vec{x}(t)) dt \\approx h \\cdot \\vec{f}(\\vec{x}(t_i))\n",
        "$$\n",
        "\n",
        "und wir erhalten die rekursive Approximationsformel\n",
        "\n",
        "$$\n",
        "\\text{expl. Euler-Verfahren:} \\quad \n",
        "\\vec{x}(t_{i+1}) = \\vec{x}(t_i) + h \\cdot \\vec{f}(\\vec{x}(t_i)) \\, .\n",
        "$$\n",
        " \n",
        "# Beispiel aus dem Tutorium\n",
        "\n",
        "Zur Illustration des Verfahrens greifen wir auf die in Aufgabe 3 aufgestellte Bewegungsgleichung des 5. Übungsblatts, die wir weiter oben mit dem Lagrange-Formalismus hergeleitet haben, zurück. Diese müssen wir zuerst in ein DGL-System 1. Ordnung umwandeln. Die Bewegungsgl. lautet (nach den oben angedeuteten Umformungen)\n",
        "\n",
        "$$\n",
        "0 = 4 m_1 l^2 \\left(\\ddot{\\varphi} \\sin^2\\varphi + \\dot{\\varphi}^2 \\sin\\varphi \\cos\\varphi \\right) + m_2 l^2 \\ddot{\\varphi} - (2m_1 + m_2) g l \\sin\\varphi  \\, .\n",
        "$$ \n",
        "\n",
        "Wir definieren nun $x_1 := \\varphi$, $x_2 := \\dot{\\varphi} = \\dot{x}_1$ und erhalten nach dieser Umbenennung der (von $t$ abhängigen) Variablen\n",
        "\n",
        "$$\n",
        "\\dot{\\vec{x}} = \n",
        "\\begin{pmatrix}\n",
        "x_1 \\\\ \n",
        "x_2\n",
        "\\end{pmatrix} \n",
        "= \n",
        "\\begin{pmatrix} \n",
        "  x_2 \\\\\n",
        "  \\frac{1}{4 m_1 l \\sin^2 x_1 + m_2 l} \\left[ (2m_1 + m_2) g \\sin x_1 - 4 m_1 l x_2^2 \\sin x_1 \\cos x_1   \\right]\n",
        "\\end{pmatrix}\n",
        "=\n",
        "\\vec{f}(\\vec{x}) \\, .\n",
        "$$\n",
        "\n",
        "Als Anfangsbedingungen wählen wir (willkürlich) $\\varphi(0) = x_1(0)= 1$, was in etwa $57°$ entspricht und $\\dot{\\varphi}(0) = x_2(0) = 0 \\, \\frac{1}{\\mathrm{s}}$. \n",
        "\n",
        "\\\\\n",
        "Der folgende Pyhton-Code implementiert ein simples Programm zur numerischen Lösung von Bewegungsgleichungen. Es kann das expl. Euler-Verfahren als Algorithmus ausgewählt werden um die oben angegebene Bewegungsgl. zu integrieren. Es kann aber auch eine andere Bewegungsgl. verwendet werden. Dafür ist in der zweiten Codezelle die Funktion `f(x,params)` und eventuell die Schrittweite anzupassen. Desweiteren ist ein zusätzlicher Algorithmus, das sogenannte [klassische Runge-Kutta-Verfahren](https://de.wikipedia.org/wiki/Klassisches_Runge-Kutta-Verfahren), eingebaut. Dieses wertet $\\vec{f}$ insgesamt vier mal pro Zeitschritt aus, das expl. Euler-Verfahren hingegen nur einmal. Das Runge-Kutta-Verfahren ist somit bei gleicher Schrittweite $h$ etwa vier mal so teuer wie das expl. Euler-Verfahren, liefert aber, wie wir sehen werden, auch deutlich genauere Ergebnisse.\n",
        "\n"
      ]
    },
    {
      "cell_type": "code",
      "metadata": {
        "id": "DXoLCEOD-n6f"
      },
      "source": [
        "import numpy as np\n",
        "import matplotlib.pyplot as plt\n",
        "\n",
        "def ode_solve(ode_rhs,init,t,algorithm):\n",
        "  \"\"\"Simples Programm zur numerischen Integration von Anfangswertproblemen\n",
        "  ode_rhs: rechte Seite der DGL 1. Ordnung\n",
        "  init: Anfangsbedingungen\n",
        "  t: Zeitachse \n",
        "  algorithm: Algorithmus zur Berechnung des nächsten Zeitschrittes\"\"\"\n",
        "  # Überprüfe ob die Abstände in t äquidistant sind\n",
        "  if np.any(np.diff(t,n=2) > 1e-9):\n",
        "    raise Exception(\"Die Abstände in t müssen äquidistant sein.\")\n",
        "\n",
        "  x = np.zeros((init.shape[0],len(t)))\n",
        "  x[:,0] = init\n",
        "  h = t[1]-t[0] # Schrittweite\n",
        "  for i in range(len(t)-1):\n",
        "    x[:,i+1] = algorithm(ode_rhs,x[:,i],h)\n",
        "  return x\n",
        "\n",
        "def explicit_euler(ode_rhs,x_old,step):\n",
        "  \"\"\"berechnet nächsten Zeitschritt mit explizitem Euler-Verfahren\"\"\"\n",
        "  x_new = x_old + ode_rhs(x_old) * step\n",
        "  return x_new\n",
        "\n",
        "def RK4(ode_rhs,x_old,step):\n",
        "  \"\"\"berechnet nächsten Zeitschritt mit klassischem Runge-Kutta-Verfahren (4. Ordnung)\"\"\"\n",
        "  k1 = ode_rhs(x_old)\n",
        "  k2 = ode_rhs(x_old + step*k1/2)\n",
        "  k3 = ode_rhs(x_old + step*k2/2)\n",
        "  k4 = ode_rhs(x_old + step*k3)\n",
        "  x_new = x_old + 1/6 * step * (k1+2*k2+2*k3+k4)\n",
        "  return x_new\n"
      ],
      "execution_count": 2,
      "outputs": []
    },
    {
      "cell_type": "code",
      "metadata": {
        "colab": {
          "base_uri": "https://localhost:8080/",
          "height": 283
        },
        "id": "m09s5DWNwIaL",
        "outputId": "3bc0ad38-5af2-4cff-f977-c6eb552ad4e4"
      },
      "source": [
        "# die rechte Seite f unseres DGL-Systems \n",
        "def f(x,params):\n",
        "  \"\"\"wertet die rechte Seite der DGL 1. Ordnung aka f(x) aus\"\"\"\n",
        "  m1, m2, l, g = params\n",
        "  x1 = x[0]\n",
        "  x2 = x[1]\n",
        "  return np.array([x2, 1/(4*m1*l*np.sin(x1)**2+m2*l) * ((2*m1+m2)*g*np.sin(x1) - 4*m1*l*x2**2*np.sin(x1)*np.cos(x1))])\n",
        "\n",
        "\n",
        "m1 = 1 # Masse 1 [kg]\n",
        "m2 = 1 # Masse 2 [kg]\n",
        "l = 1  # Stangenlänge [m]\n",
        "g = 9.81 # Erdbeschleunigung [m/s^2]\n",
        "params = np.array([m1,m2,l,g]) \n",
        "\n",
        "ode_rhs = lambda x: f(x,params)\n",
        "\n",
        "hEE = 0.001 # Schrittweite [s] für expl. Euler-Verfahren\n",
        "tend = 20 # Ende der Integration [s]\n",
        "tEE = np.linspace(0,tend,round(tend/hEE)) # Zeitvektor [s]\n",
        "x0 = np.array([1,0]) # Anfangsbedingungen (Winkel [1], Winkelgeschw. [1/s])\n",
        "\n",
        "\n",
        "xEE = ode_solve(ode_rhs,x0,tEE,explicit_euler)\n",
        "\n",
        "hRK = 0.01 # Schrittweite [s] für Runge-Kutta-Verfahren\n",
        "tRK = np.linspace(0,tend,round(tend/hRK)) # Zeitvektor [s]\n",
        "\n",
        "xRK = ode_solve(ode_rhs,x0,tRK,RK4)\n",
        "\n",
        "plt.plot(tRK,xRK[0,:],label=\"Runge-Kutta\")\n",
        "plt.plot(tEE,xEE[0,:],label=\"expl. Euler\")\n",
        "plt.grid(True)\n",
        "plt.legend()\n",
        "plt.xlabel(r\"$t$ [s]\")\n",
        "plt.ylabel(r\"$\\varphi$ [rad]\")\n",
        "plt.show()"
      ],
      "execution_count": 21,
      "outputs": [
        {
          "output_type": "display_data",
          "data": {
            "image/png": "[encoded data removed]",
            "text/plain": [
              "<Figure size 432x288 with 1 Axes>"
            ]
          },
          "metadata": {
            "tags": [],
            "needs_background": "light"
          }
        }
      ]
    },
    {
      "cell_type": "markdown",
      "metadata": {
        "id": "If8RuHCnd0VS"
      },
      "source": [
        "*Verständnisfrage*: In obigem Plot ist $\\varphi$ (in rad) über $t$ (in \n",
        "s) aufgetragen. Der Maximalwert des mit dem Runge-Kutta-Verfahren bestimmten $\\varphi$ beträgt ca. 5,3 rad, was etwa 304° entspricht. Entspricht dieses Ergebnis Ihren Erwartungen? Gibt es einen Zeitpunkt ab dem der gezeigte Verlauf ungültig ist? Falls ja, wieso?"
      ]
    },
    {
      "cell_type": "markdown",
      "metadata": {
        "id": "1TuvHV-52RTV"
      },
      "source": [
        "# Vergleich der beiden Lösungen\n",
        "\n",
        "Wie wir sehen, entfernen sich die mit den beiden Verfahren bestimmten zeitlichen Verläufe $\\varphi$ mit zunehmender Zeit voneinander. Da dem mechanischen System (s. Aufgabenblatt 5) weder Energie zugeführt noch entzogen wird, liegt die Vermutung nahe, dass die Schwingung periodisch verlaufen muss. Das Aufklingen der mit dem expl. Euler-Verfahren gefundenen Lösung ist somit unphysikalisch und ein rein numerisches Phänomen. Diese numerische Instabilität können wir durch Wahl einer kleineren Schrittweite beseitigen. Dadurch wächst aber wiederum die Rechenzeit an. Bei dem Vergleich ist zudem zu beachten, dass für das Runge-Kutta-Verfahren eine Schrittweite (im Code `hRK`) von $h=0,01$ und für das expl. Euler-Verfahren (im Code `hEE`) von $h=0,001$ gewählt wurde. Das Runge-Kutta-Verfahren ist somit genauer als das expl. Euler-Verfahren und wir sollten das Ergebnis nach etwa der Hälfte der Rechenzeit erhalten. Diese Annahme können wir mit den folgenden Zeilen Code überprüfen:"
      ]
    },
    {
      "cell_type": "code",
      "metadata": {
        "colab": {
          "base_uri": "https://localhost:8080/"
        },
        "id": "rkKbP8t7EUri",
        "outputId": "c87097a6-02a9-4fc9-e5ed-9bae90acf812"
      },
      "source": [
        "print(\"Explizites Euler-Verfahren:\")\n",
        "%timeit ode_solve(ode_rhs,x0,tEE,explicit_euler)\n",
        "print(\"\\nRunge-Kutta-Verfahren:\")\n",
        "%timeit ode_solve(ode_rhs,x0,tRK,RK4)"
      ],
      "execution_count": 12,
      "outputs": [
        {
          "output_type": "stream",
          "text": [
            "Explizites Euler-Verfahren:\n",
            "10 loops, best of 5: 210 ms per loop\n",
            "\n",
            "Runge-Kutta-Verfahren:\n",
            "10 loops, best of 5: 113 ms per loop\n"
          ],
          "name": "stdout"
        }
      ]
    },
    {
      "cell_type": "markdown",
      "metadata": {
        "id": "GgPp_10nEdS_"
      },
      "source": [
        "Eine genaue Untersuchung der beiden Verfahren (Stichworte sind hier unter anderem Konsistenz- und Konvergenzordnung) ist Aufgabe der Numerischen Analysis und geht über diese extrem kurze Einführung hinaus. An dieser Stelle sei angemerkt, dass alle großen Programmiersprachen (mindestens) eine Bibliothek zur numerischen Integration von Bewegungsgleichungen enthalten. Python ist hier keine Ausnahme. Die entsprechende Bibliothek heißt `scipy.integrate`. Dies bedeutet, dass wir die in der Literatur enthaltenen Algorithmen in der Regel nicht selbst, wie hier geschehen, implementieren müssen. Stattdessesn können wir auf der Arbeit von Numerik-Expert*innen aufbauen. Dennoch ist es keine gute Idee den Ergebnissen blind zu vertrauen. Wir sollten, wie jedes andere Ergebnis auch, numerische Berechnungen immer auf Plausibilität überprüfen. Hier haben wir unser mechanisches Verständnis verwendet um das Aufklingen der mit dem expl. Euler-Verfahren berechneten Lösung als Fehler zu erkennen. Eine weitere, einfache Möglichkeit die bestimmte Lösung zu überprüfen kann hier erfolgen, indem die Gesamtenergie $E = T + U$ dargestellt wird. Wie oben bereits angedeutet, handelt es sich um ein konservatives System und es gilt somit $E = \\mathrm{konst.}$ Der folgende Code berechnet und plottet die Energiefunktion mit den Verläufen von $\\varphi$ und $\\dot{\\varphi}$, jeweils gewonnen mit dem  expl. Euler- und dem Runge-Kutta-Verfahren. "
      ]
    },
    {
      "cell_type": "code",
      "metadata": {
        "colab": {
          "base_uri": "https://localhost:8080/",
          "height": 283
        },
        "id": "Y4UfpGUFUsYu",
        "outputId": "916c6c4d-0849-4f10-fb61-e62234c11f37"
      },
      "source": [
        "energie = lambda x, dx: 1/2*l*(2*g*(2*m1+m2)*np.cos(x)+l*(2*m1+m2-2*m1*np.cos(2*x))*dx**2)\n",
        "plt.plot(tRK,energie(xRK[0,:],xRK[1,:]),label=\"Runge-Kutta\")\n",
        "plt.plot(tEE,energie(xEE[0,:],xEE[1,:]),label=\"expl. Euler\")\n",
        "plt.xlabel(r\"$t$ [s]\")\n",
        "plt.ylabel(r\"$E$ [J]\")\n",
        "plt.legend()\n",
        "plt.show()"
      ],
      "execution_count": 22,
      "outputs": [
        {
          "output_type": "display_data",
          "data": {
            "image/png": "[encoded data removed]",
            "text/plain": [
              "<Figure size 432x288 with 1 Axes>"
            ]
          },
          "metadata": {
            "tags": [],
            "needs_background": "light"
          }
        }
      ]
    },
    {
      "cell_type": "markdown",
      "metadata": {
        "id": "cGT2GAyCa8WZ"
      },
      "source": [
        "Unter Verwendung des expl. Euler-Verfahrens driftet die Gesamtenergie stufenartig davon. Beim Runge-Kutta-Verfahren hingegen ist bei dieser Auflösung mit bloßem Auge keine Veränderung der Energiefunktion über der Zeit zu erkennen."
      ]
    },
    {
      "cell_type": "code",
      "metadata": {
        "id": "NiJZsXx368QR"
      },
      "source": [
        ""
      ],
      "execution_count": null,
      "outputs": []
    }
  ]
}
