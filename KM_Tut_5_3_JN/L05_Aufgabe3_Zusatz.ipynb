{
 "cells": [
  {
   "cell_type": "markdown",
   "metadata": {
    "id": "RFw6q8FBVu9U"
   },
   "source": [
    "# Lehreinheit 5 – Aufgabe 3 (begleitendes Material)\n",
    "Autoren: Nicolás Franco Gómez, Frederik Rentzsch. Bei Fragen, Anmerkungen und/oder Korrekturhinweisen bitte eine Mail an <nicolasfrancogomez@yahoo.com> oder <f.rentzsch@tu-berlin.de> schreiben."
   ]
  },
  {
   "cell_type": "markdown",
   "metadata": {
    "id": "I4t6CiRlVu9V"
   },
   "source": [
    "In diesem Jupyter Notebook wollen wir den Rayleigh-Quotienten für die gegebene Ansatzfunktion $w(x,t) = C x^2(l-x)^2 q(t)$ mithilfe der Python-Bibliothek `SymPy` zur Manipulation symbolischer Ausdrücke berechnen.\n",
    "\n",
    "Aus Vorlesung, Übung und Tutorium wissen wir, dass der Rayleigh-Quotient eine obere Schranke $\\tilde{\\omega}_1$ für die erste Eigenkreisfreqenz $\\omega_1$ liefert. Für einen Euler-Bernoulli-Balken lautet er (vgl. 5. Formelblatt): \n",
    "\n",
    "$$\\omega_1 \\leq \\tilde{\\omega}_1 = \\sqrt{\\frac{\\int_0^l E I \\tilde{W}''^2_1(x) \\, \\mathrm{d}x}{ \\int_0^l \\varrho A \\tilde{W}^2_1(x) \\, \\mathrm{d}x}} \\, .$$\n",
    "\n",
    "$\\tilde{W}_1$ ist eine Näherung für die erste Eigenform. Mit der gegebenen Ansatzfunktion folgt unmittelbar $\\tilde{W}_1(x) = x^2(l-x)^2$.\n",
    "\n",
    "\n",
    "\n",
    "*kleine Verständnisfrage: Inwiefern ändert sich das Ergebnis des Rayleigh-Quotienten, wenn wir stattdessen $\\tilde{W}_1(x)=Cx^2(l-x)^2$ verwenden?*"
   ]
  },
  {
   "cell_type": "markdown",
   "metadata": {},
   "source": [
    "<center><img src=\"system.png\" alt=\"Drawing\" style=\"width: 300px;\" align=\"center\"/></center>"
   ]
  },
  {
   "cell_type": "code",
   "execution_count": 1,
   "metadata": {
    "id": "quQr5yPAVu9W"
   },
   "outputs": [],
   "source": [
    "# Importieren von Sympy\n",
    "from sympy import *\n",
    "\n",
    "# Definition der Symbole\n",
    "x = Symbol('x') #Variable\n",
    "E, I, d, A, l = Symbol('E'),Symbol('I'),Symbol(r'\\varrho'),Symbol('A'),Symbol('l') # Konstanten."
   ]
  },
  {
   "cell_type": "code",
   "execution_count": 2,
   "metadata": {
    "colab": {
     "base_uri": "https://localhost:8080/",
     "height": 56
    },
    "id": "wDp_cWCJVu9W",
    "outputId": "f2e5d7c0-7233-430c-efd3-258154b80484"
   },
   "outputs": [
    {
     "name": "stdout",
     "output_type": "stream",
     "text": [
      "Ansatzfunktion:\n"
     ]
    },
    {
     "data": {
      "text/latex": [
       "$\\displaystyle x^{2} \\left(l - x\\right)^{2}$"
      ],
      "text/plain": [
       "x**2*(l - x)**2"
      ]
     },
     "execution_count": 2,
     "metadata": {},
     "output_type": "execute_result"
    }
   ],
   "source": [
    "print('Ansatzfunktion:')\n",
    "w = x**2*(l-x)**2\n",
    "w"
   ]
  },
  {
   "cell_type": "code",
   "execution_count": 3,
   "metadata": {
    "colab": {
     "base_uri": "https://localhost:8080/",
     "height": 64
    },
    "id": "LRDRYkMcVu9X",
    "outputId": "912bfb73-a34e-49ee-8909-46319727ac96"
   },
   "outputs": [
    {
     "name": "stdout",
     "output_type": "stream",
     "text": [
      "Zweite Ableitung der Ansatzfunktion:\n"
     ]
    },
    {
     "data": {
      "text/latex": [
       "$\\displaystyle 2 \\left(x^{2} - 4 x \\left(l - x\\right) + \\left(l - x\\right)^{2}\\right)$"
      ],
      "text/plain": [
       "2*(x**2 - 4*x*(l - x) + (l - x)**2)"
      ]
     },
     "execution_count": 3,
     "metadata": {},
     "output_type": "execute_result"
    }
   ],
   "source": [
    "print('Zweite Ableitung der Ansatzfunktion:')\n",
    "w_2 = diff(w,x,2)\n",
    "w_2"
   ]
  },
  {
   "cell_type": "code",
   "execution_count": 4,
   "metadata": {
    "colab": {
     "base_uri": "https://localhost:8080/",
     "height": 78
    },
    "id": "rYtvT51uVu9Z",
    "outputId": "08ed31e2-7247-4b24-bc65-3a66205b7b26"
   },
   "outputs": [
    {
     "name": "stdout",
     "output_type": "stream",
     "text": [
      "Näherung für erste Eigenkreisfrequenz\n"
     ]
    },
    {
     "data": {
      "text/latex": [
       "$\\displaystyle 22.45 \\left(\\frac{E I}{A \\varrho l^{4}}\\right)^{0.5}$"
      ],
      "text/plain": [
       "22.45*(E*I/(A*\\varrho*l**4))**0.5"
      ]
     },
     "execution_count": 4,
     "metadata": {},
     "output_type": "execute_result"
    }
   ],
   "source": [
    "print('Näherung für erste Eigenkreisfrequenz')\n",
    "w_tilde = sqrt(integrate(w_2**2,(x,l,0))*E*I/(integrate(w**2,(x,l,0))*d*A))\n",
    "w_tilde.evalf(5)"
   ]
  },
  {
   "cell_type": "markdown",
   "metadata": {
    "id": "L3RXg0gGVu9a"
   },
   "source": [
    "## Vergleich mit der \"exakten\" Lösung\n",
    "Die \"exakte\" Lösung ist gegeben durch\n",
    "$$\\omega_1 = 15,42 \\,\\frac{1}{l^2}\\sqrt{\\frac{EI}{\\varrho A}}\\,.$$\n",
    "\n",
    "Die geschätzte Lösung lautet\n",
    "$$\\hat{\\omega}_1 \\approx 22,45 \\, \\frac{1}{l^2}\\sqrt{\\frac{EI}{\\varrho A}}\\,.$$"
   ]
  },
  {
   "cell_type": "code",
   "execution_count": 5,
   "metadata": {
    "colab": {
     "base_uri": "https://localhost:8080/"
    },
    "id": "dYXy6GDVVu9b",
    "outputId": "6f811c4c-dd9b-4e9c-f930-ad82f74a1de7"
   },
   "outputs": [
    {
     "name": "stdout",
     "output_type": "stream",
     "text": [
      "Der relative Fehler beträgt 45.59%.\n"
     ]
    }
   ],
   "source": [
    "#Fehlerberechnung\n",
    "print(f\"Der relative Fehler beträgt {(22.45-15.42)/15.42*100:.2f}%.\")"
   ]
  },
  {
   "cell_type": "markdown",
   "metadata": {
    "id": "tFt-FwO-Vu9c"
   },
   "source": [
    "Wir sehen, dass der relative Fehler $\\epsilon_{\\text{rel}} \\approx 45,6 \\% $ beträgt. Somit liefert die gegebene Ansatzfunktion kein zufriedenstellendes Ergebnis. Im Tutorium wurde bereits diskutiert aus welchen Gründen das Ergebnis so stark vom korrekten Wert abweicht."
   ]
  },
  {
   "cell_type": "markdown",
   "metadata": {
    "id": "uVNxuS1vVu9c"
   },
   "source": [
    "# Zusatz für Interessierte\n",
    "- Im weiteren Verlauf werden wir ein Verfahren kennenlernen, das es uns ermöglicht die, in der Aufgabenstellung gegebene, \"exakte\" erste Eigenkreisfrequenz zu erhalten. Dabei wird die zugrundeliegende, nichtlineare Frequenzgleichung numerisch gelöst.\n",
    "\n",
    "- Zum Abschluss werden verschiedene Ansatzfunktionen präsentiert und graphisch nebeneinander dargestellt.\n",
    "\n",
    "## Numerische Lösung mittels Bisektionsverfahren\n",
    "\n",
    "Aus der 3. Lehreinheit ist bekannt, dass\n",
    "\n",
    "$$ \n",
    "\\mathrm{FG:} \\quad \\tan(z) = \\tanh(z), \\quad z := \\lambda l, \\quad \\lambda^4 = \\frac{\\omega^2 \\varrho A}{EI}\n",
    "$$\n",
    "\n",
    "die Frequenzgleichung (FG) des gegebenen Systems ist (s. Übungsblatt 3, Aufgabe 1, Gl. 21). Gesucht sind also die Schnittpunkte der Tangens- mit der Tangens Hyperbolicusfunktion. Diese nichtlineare Gleichung lässt sich nicht auf elementare Weise lösen. Wir verwenden das [Bisketionsverfahren](https://de.wikipedia.org/wiki/Bisektion), das zur numerischen Lösung von Gleichungen des Typs $f(z)=0$ verwendet werden kann. Wir definieren hierfür\n",
    "\n",
    "$$\n",
    "f(z) := \\tan(z) - \\tanh(z) = 0.\n",
    "$$\n",
    "\n",
    "Die Idee des Verfahrens ist simpel. Wir nehmen der Einfachheit halber an, dass wir ein Intervall $[l, r]$ haben auf dem $f$ streng monoton wächst, wobei wir nach Möglichkeit schon wissen, dass sich in diesem Intervall (mindestens) eine Nullstelle befindet. Es muss also $f(l) < 0$ und $f(r) > 0$ gelten oder kompakter $f(l)f(r) < 0$. Haben wir solch ein Intervall (durch Ausprobieren) gefunden, wird der Mittelwert der Intervallgrenzen gebildet, $m = \\frac{l+r}{2}$. Ist nun $f(l)f(m) < 0$, setzen wir $r=m$, andernfalls $l=m$ und berechnen den Mittelwert der neuen Intervallgrenzen usw. Das Intervall, in dem sich die Nullstelle befindet, wird auf diese Weise bei jedem Durchlauf halbiert und die Nullstelle kann beliebig genau ermittelt werden.\n"
   ]
  },
  {
   "cell_type": "code",
   "execution_count": 6,
   "metadata": {
    "colab": {
     "base_uri": "https://localhost:8080/",
     "height": 297
    },
    "id": "BRa71mIGY1dx",
    "outputId": "4c5bc41b-940f-455a-809e-26c79284b97a"
   },
   "outputs": [
    {
     "data": {
      "image/png": "[encoded data removed]",
      "text/plain": [
       "<Figure size 432x288 with 1 Axes>"
      ]
     },
     "metadata": {
      "needs_background": "light"
     },
     "output_type": "display_data"
    }
   ],
   "source": [
    "import numpy as np\n",
    "import matplotlib.pyplot as plt\n",
    "%matplotlib inline\n",
    "\n",
    "z = np.linspace(2,4.5)\n",
    "plt.plot(z,np.tan(z)-np.tanh(z),label=r'$f(z)=\\tan(z)-\\tanh(z)$')\n",
    "plt.grid(True)\n",
    "plt.legend()\n",
    "plt.xlabel(r'$z$')\n",
    "plt.tight_layout()"
   ]
  },
  {
   "cell_type": "markdown",
   "metadata": {
    "id": "Gv1lbbLYbO_Z"
   },
   "source": [
    "Anhand des Graphen erkennen wir, dass $f$ im Intervall \\[2, 4.5\\] streng monoton wächst und eine Nullstelle in der Nähe von $z=4$ enthält. Unsere Voraussetzungen sind somit erfüllt und das Bisektionsverfahren darf angewandt werden."
   ]
  },
  {
   "cell_type": "code",
   "execution_count": 7,
   "metadata": {
    "colab": {
     "base_uri": "https://localhost:8080/"
    },
    "id": "kTG9taIwbMju",
    "outputId": "9bb0886d-8887-4308-8313-fa4981462759"
   },
   "outputs": [
    {
     "name": "stdout",
     "output_type": "stream",
     "text": [
      "Iterationen: 15\n",
      "Erste (positive) Nullstelle der Frequenzgleichung f(z) = 0 \n",
      "wurde auf 4 Nachkommastellen genau bestimmt und liegt bei z = 3.9266.\n"
     ]
    }
   ],
   "source": [
    "def bisektionsverfahren(f,left,right,eps=1e-4):\n",
    "  \"\"\"Berechnung einer Nullstelle im Intervall [left, right] der streng monoton steigenden Funktion f \n",
    "  mittels Bisektionsverfahren\n",
    "  f: function handle\n",
    "  left: linke Intervallgrenze\n",
    "  right: rechte Intervallgrenze\n",
    "  eps: geforderte Maximallänge des Intervalls in dem sich die Nullstelle befindet\"\"\"\n",
    "\n",
    "  if f(left)*f(right) >= 0:\n",
    "    raise Exception(\"Voraussetzung f(l)f(r)<0 nicht erfüllt. Probiere ein anderes Intervall.\")\n",
    "\n",
    "  n = 0\n",
    "  while right-left > eps:\n",
    "    n+=1\n",
    "    m = (left+right)/2\n",
    "    if f(left)*f(m) < 0:\n",
    "      right = m\n",
    "    else:\n",
    "      left = m\n",
    "  print(f'Iterationen: {n}')\n",
    "  return (left+right)/2\n",
    "\n",
    "stellen = 4 # Anzahl korrekt wiedergegebener Nachkommastellen\n",
    "f = lambda z: np.tan(z)-np.tanh(z)\n",
    "eps = 10.**(-stellen)\n",
    "left, right = 2, 4.5\n",
    "\n",
    "nullst = bisektionsverfahren(f,left,right,eps)\n",
    "\n",
    "print(f\"\"\"Erste (positive) Nullstelle der Frequenzgleichung f(z) = 0 \n",
    "wurde auf {stellen} Nachkommastellen genau bestimmt und liegt bei z = {nullst:.{stellen}f}.\"\"\")"
   ]
  },
  {
   "cell_type": "markdown",
   "metadata": {
    "id": "6fPxxvF4Vu9f"
   },
   "source": [
    "Das Programm liefert den Näherungswert $z \\approx 3,9266$. Daraus erhalten wir die erste Eigenkreisfrequenz zu\n",
    "\n",
    "$$ \\omega_1 = \\frac{z^2}{l^2} \\sqrt{\\frac{EI}{\\varrho A}} \\approx 15,42 \\,\\frac{1}{l^2} \\sqrt{\\frac{EI}{\\varrho A}}\\, ,$$\n",
    "\n",
    "was mit dem gegebenen Wert übereinstimmt.\n",
    "\n",
    "## Eigenform $W_1(x)$\n",
    "Passt man die allgemeine Lösung der Eigenform(en)\n",
    "\n",
    "$$\n",
    "W(x) = \\tilde{A} \\cos(\\lambda x) + \\tilde{B} \\sin(\\lambda x) + \\tilde{C} \\cosh(\\lambda x) + \\tilde{D} \\sinh(\\lambda x)\n",
    "$$\n",
    "\n",
    "an die Randbedingungen an und behält $\\tilde{A}$ als freien Parameter (<i>Beachte:</i> $\\tilde{A} \\neq A$. $A$ ist die Querschnittsfläche!), so resultiert\n",
    "\n",
    "$$\n",
    "W(x) = \\tilde{A} \\left[ \\cos(\\lambda x) - \\cot(\\lambda l) \\sin(\\lambda x) - \\cosh(\\lambda x) + \\coth(\\lambda l) \\sinh(\\lambda x) \\right] \\, .\n",
    "$$\n",
    "\n",
    "<i><b>Hinweis:</b></i> *Die oben angegebene Eigenform ist nur eine Darstellung von vielen. Da wir 5 Parameter haben $\\tilde{A},\\tilde{B},\\tilde{C},\\tilde{D},\\lambda$ aber nur 4 Gleichungen aus den Randbedingungen, muss zwingend ein Parameter (hier $\\tilde{A}$) frei bleiben. Diese recht kompakte Form erhalten wir, indem wir die Randbedingungen $W(0)=0, W(l)=0, W''(l)=0$ verwenden. Die letzte Randbedingung $W'(0)=0$ wird automatisch durch (FG) erfüllt. (Es ist eine gute Übung dies nachzuempfinden.)*\n",
    "\n",
    "\n",
    "\n",
    "Für die graphische Darstellung verwenden wir die normierte Ortskoordinate $\\hat{x} = \\frac{x}{l} $. Die Amplitude wird ebenfalls normiert dargestellt, d.h. $\\hat{W}(x)=\\frac{W(x)}{\\max |W(x)|}$."
   ]
  },
  {
   "cell_type": "code",
   "execution_count": 8,
   "metadata": {
    "colab": {
     "base_uri": "https://localhost:8080/",
     "height": 369
    },
    "id": "5Bjqw5pvVu9g",
    "outputId": "b52a0c68-edd8-46ed-c746-c73cc4227be2"
   },
   "outputs": [
    {
     "data": {
      "image/png": "[encoded data removed]",
      "text/plain": [
       "<Figure size 576x360 with 1 Axes>"
      ]
     },
     "metadata": {
      "needs_background": "light"
     },
     "output_type": "display_data"
    }
   ],
   "source": [
    "cot = lambda x: 1/np.tan(x)\n",
    "coth = lambda x: 1/np.tanh(x)\n",
    "def eigform1(x):\n",
    "  return np.cos(nullst*x) - cot(nullst)*np.sin(nullst*x)-np.cosh(nullst*x)+coth(nullst)*np.sinh(nullst*x) \n",
    "\n",
    "x = np.linspace(0,1)\n",
    "fig = plt.figure(figsize=(8,5))\n",
    "ax = plt.axes(xlim=(0, 1), ylim=(-1.5, .5))\n",
    "ax.plot(x, eigform1(x)/np.max(np.abs(eigform1(x))),linewidth=2)\n",
    "ax.set_title(r'1. Eigenform $\\hat{W}_1(x)$')\n",
    "ax.set_xlabel(r'Normierte Ortskoordinate $\\hat{x} = \\frac{x}{l}$  [1]')\n",
    "ax.set_ylabel(r'Normierte Auslenkung $\\hat{W}$ [1]')\n",
    "fig.tight_layout()"
   ]
  },
  {
   "cell_type": "markdown",
   "metadata": {},
   "source": [
    "### Animation der Eigenform $W_1(x)$\n",
    "<i>Beachte:</i> Die hier gezeigte Frequenz $f_1 = \\frac{\\omega_1}{2 \\pi}$ ist willkürlich zur Demonstration gewählt und entspricht nicht der echten Frequenz, mit der das System schwingt.\n",
    "<center><img src=\"animation.gif\" alt=\"Drawing\" style=\"width: 680px;\" align=\"center\"/></center>"
   ]
  },
  {
   "cell_type": "markdown",
   "metadata": {
    "id": "jeg_DpY2Vu9j"
   },
   "source": [
    "## Weitere Ansatzfunktionen\n",
    "Letztlich werden weitere Ansatzfunktionen ausprobiert und die Ergebnisse miteinander verglichen."
   ]
  },
  {
   "cell_type": "code",
   "execution_count": 9,
   "metadata": {
    "colab": {
     "base_uri": "https://localhost:8080/",
     "height": 61
    },
    "id": "GCfbMIVPVu9k",
    "outputId": "7255f973-3f12-4400-a151-af874d661c97"
   },
   "outputs": [
    {
     "data": {
      "text/latex": [
       "$\\displaystyle 22.45 \\left(\\frac{E I}{A \\varrho l^{4}}\\right)^{0.5}$"
      ],
      "text/plain": [
       "22.45*(E*I/(A*\\varrho*l**4))**0.5"
      ]
     },
     "execution_count": 9,
     "metadata": {},
     "output_type": "execute_result"
    }
   ],
   "source": [
    "x = Symbol('x')\n",
    "#######\n",
    "\n",
    "w = x**2*(l-x)**2 # <- Hier können Sie Ihre ganz eigene Ansatzfunktion ausprobieren!\n",
    "\n",
    "#w = x**2 - (5/3/l)*x**3 + (2/3/l**2)*x**4 # Musterlösung der besseren Ansatzfunktion, wie kommt man auf diese?\n",
    "\n",
    "#######\n",
    "w_2 = diff(w,x,2)\n",
    "ergebnis = sqrt(integrate(w_2**2,(x,l,0))*E*I/(integrate(w**2,(x,l,0))*d*A))\n",
    "ergebnis.evalf(5)\n",
    "\n"
   ]
  },
  {
   "cell_type": "markdown",
   "metadata": {
    "id": "x6BbTGuTvVJc"
   },
   "source": [
    "*Verständnisfrage: Warum sollte mindestens ein Ansatz 4. Ordnung für $\\tilde{W}_1$ verwendet werden?*"
   ]
  },
  {
   "cell_type": "code",
   "execution_count": 11,
   "metadata": {
    "colab": {
     "base_uri": "https://localhost:8080/",
     "height": 413
    },
    "id": "WPaUe7cPVu9k",
    "outputId": "993f31df-cb30-4834-d882-4d1fc7962e41"
   },
   "outputs": [
    {
     "data": {
      "image/png": "[encoded data removed]",
      "text/plain": [
       "<Figure size 576x432 with 1 Axes>"
      ]
     },
     "metadata": {
      "needs_background": "light"
     },
     "output_type": "display_data"
    }
   ],
   "source": [
    "x_norm = np.linspace(0,1,200)\n",
    "\n",
    "ansatz = []\n",
    "ansatz.append((x_norm-1)**2*x_norm**2)\n",
    "\n",
    "plt.figure(figsize=(8,6))\n",
    "plt.title(r'Vergleich zwischen Eigenform $\\hat{W}_1$ und versch. Ansatzfunktionen')\n",
    "plt.plot(x_norm,-eigform1(x_norm)/np.max(np.abs(eigform1(x_norm))),label=r'Echte Eigenform $\\hat{W}_1(x)$')\n",
    "plt.xlabel(r'Ortskoordinate $\\hat{x} = \\frac{x}{l}$ [1]')\n",
    "plt.ylabel(r'Normierte Auslenkung $\\hat{W}(x)$ [1]')\n",
    "plt.plot(x_norm,ansatz[0]/np.max(np.abs(ansatz[0])),label=r\"$\\tilde{W}_1(x) = C \\cdot x^2(l-x)^2$\",linestyle='--',linewidth=0.7)\n",
    "plt.legend()\n",
    "plt.show()"
   ]
  },
  {
   "cell_type": "markdown",
   "metadata": {
    "id": "p3vx4ckDVu9l"
   },
   "source": [
    "# Ideen zum Experimentieren mit dem Notebook\n",
    "\n",
    "- (Weitere Eigenformen plotten) Oben haben wir die 1. Eigenform dargestellt. Man kann mit einer kleinen Änderung im Programmcode auch eine beliebige andere Eigenform finden. Versuchen Sie den Code so anzupassen, dass Sie z.B. die 2. Eigenform erhalten. <i>Hinweis:</i> Man benötigt einen anderen Wert für $z$.\n",
    "\n",
    "- (Bessere Ansatzfunktion finden) Die hier verwendeten Ansatzfunktionen liefern allesamt viel zu große Wert für $\\tilde{\\omega}_1$. Eine einfache Möglichkeit eine oft ausreichend genaue Ansatzfunktion zu erhalten besteht darin eine gewisse Form für $\\tilde{W}_1$ anzunehmen und die darin vorkommenden freien Parameter so anzupassen, dass $\\tilde{W}_1$ die Randbedingungen erfüllt. Hier könnte ein solcher Ansatz lauten $\\tilde{W}_{\\mathrm{ab}}(x)=x^2+ax^3+bx^4$.\n",
    "Finden Sie die Parameter $a$ und $b$. (Es ist Ihnen überlassen ob Sie hierfür `SymPy`\n",
    " verwenden oder von Hand rechnen). Berechnen Sie danach $\\tilde{\\omega}_\\mathrm{ab}$, indem Sie den Programmcode entsprechend anpassen. Die mit dieser Ansatzfunktion gefundene Näherung $\\tilde{\\omega}_1$ sollte nur um etwa $0,2 \\%$ größer sein als $\\omega_1$. Überprüfen Sie diese Aussage.\n",
    "\n",
    "- (Numerische Verfahren) Das Bisektionsverfahren ist das einfachste numerische Verfahren zur Lösung des Nullstellenproblems. Nutzen Sie ihre favorisierte Suchmaschine und finden Sie mindestens ein weiteres Verfahren, welches das Nullstellenproblem (numerisch) löst und implementieren Sie es. Alternativ können Sie eigene Überlegungen zur Verbesserung des Bisektionsverfahrens anstellen und diese implementieren. Testen Sie ihren Programmcode mit unserem $f$. Stimmt Ihre Lösung für $\\omega_1$ mit der auf dem Aufgabenblatt angegebenen überein?\n",
    "\n",
    "\n",
    "\n",
    "Viel Spaß!"
   ]
  },
  {
   "cell_type": "markdown",
   "metadata": {},
   "source": [
    "# Dependencies"
   ]
  },
  {
   "cell_type": "code",
   "execution_count": 15,
   "metadata": {},
   "outputs": [
    {
     "name": "stdout",
     "output_type": "stream",
     "text": [
      "Collecting watermark\n",
      "  Downloading watermark-2.2.0-py2.py3-none-any.whl (6.8 kB)\n",
      "Requirement already satisfied: ipython in c:\\users\\f.rentzsch\\anaconda3\\lib\\site-packages (from watermark) (7.22.0)\n",
      "Requirement already satisfied: colorama in c:\\users\\f.rentzsch\\anaconda3\\lib\\site-packages (from ipython->watermark) (0.4.4)\n",
      "Requirement already satisfied: pickleshare in c:\\users\\f.rentzsch\\anaconda3\\lib\\site-packages (from ipython->watermark) (0.7.5)\n",
      "Requirement already satisfied: backcall in c:\\users\\f.rentzsch\\anaconda3\\lib\\site-packages (from ipython->watermark) (0.2.0)\n",
      "Requirement already satisfied: prompt-toolkit!=3.0.0,!=3.0.1,<3.1.0,>=2.0.0 in c:\\users\\f.rentzsch\\anaconda3\\lib\\site-packages (from ipython->watermark) (3.0.17)\n",
      "Requirement already satisfied: decorator in c:\\users\\f.rentzsch\\anaconda3\\lib\\site-packages (from ipython->watermark) (5.0.6)\n",
      "Requirement already satisfied: pygments in c:\\users\\f.rentzsch\\anaconda3\\lib\\site-packages (from ipython->watermark) (2.8.1)\n",
      "Requirement already satisfied: setuptools>=18.5 in c:\\users\\f.rentzsch\\anaconda3\\lib\\site-packages (from ipython->watermark) (52.0.0.post20210125)\n",
      "Requirement already satisfied: traitlets>=4.2 in c:\\users\\f.rentzsch\\anaconda3\\lib\\site-packages (from ipython->watermark) (5.0.5)\n",
      "Requirement already satisfied: jedi>=0.16 in c:\\users\\f.rentzsch\\anaconda3\\lib\\site-packages (from ipython->watermark) (0.17.2)\n",
      "Requirement already satisfied: parso<0.8.0,>=0.7.0 in c:\\users\\f.rentzsch\\anaconda3\\lib\\site-packages (from jedi>=0.16->ipython->watermark) (0.7.0)\n",
      "Requirement already satisfied: wcwidth in c:\\users\\f.rentzsch\\anaconda3\\lib\\site-packages (from prompt-toolkit!=3.0.0,!=3.0.1,<3.1.0,>=2.0.0->ipython->watermark) (0.2.5)\n",
      "Requirement already satisfied: ipython-genutils in c:\\users\\f.rentzsch\\anaconda3\\lib\\site-packages (from traitlets>=4.2->ipython->watermark) (0.2.0)\n",
      "Installing collected packages: watermark\n",
      "Successfully installed watermark-2.2.0\n",
      "Python implementation: CPython\n",
      "Python version       : 3.8.8\n",
      "IPython version      : 7.22.0\n",
      "\n",
      "numpy     : 1.20.1\n",
      "sympy     : 1.8\n",
      "matplotlib: 3.3.4\n",
      "\n",
      "Compiler    : MSC v.1916 64 bit (AMD64)\n",
      "OS          : Windows\n",
      "Release     : 10\n",
      "Machine     : AMD64\n",
      "Processor   : Intel64 Family 6 Model 140 Stepping 1, GenuineIntel\n",
      "CPU cores   : 8\n",
      "Architecture: 64bit\n",
      "\n",
      " \n",
      "Last updated: Thu Jun 17 2021 16:00:01Mitteleuropäische Sommerzeit\n",
      "\n"
     ]
    }
   ],
   "source": [
    "! pip install watermark \n",
    "\n",
    "%load_ext watermark\n",
    "\n",
    "# python, ipython, packages and machine characteristics\n",
    "%watermark -v -m -p numpy,sympy,matplotlib\n",
    "\n",
    "print(\" \")\n",
    "%watermark -u -n -t -z"
   ]
  },
  {
   "cell_type": "code",
   "execution_count": null,
   "metadata": {},
   "outputs": [],
   "source": []
  }
 ],
 "metadata": {
  "colab": {
   "collapsed_sections": [],
   "name": "L05_Aufgabe3_korregiert.ipynb",
   "provenance": [],
   "toc_visible": true
  },
  "interpreter": {
   "hash": "4b431c97021497b0c5e573e089dbb84702e761a54a5b7227202252bbb2f9de8a"
  },
  "kernelspec": {
   "display_name": "Python 3",
   "language": "python",
   "name": "python3"
  },
  "language_info": {
   "codemirror_mode": {
    "name": "ipython",
    "version": 3
   },
   "file_extension": ".py",
   "mimetype": "text/x-python",
   "name": "python",
   "nbconvert_exporter": "python",
   "pygments_lexer": "ipython3",
   "version": "3.8.8"
  },
  "metadata": {
   "interpreter": {
    "hash": "4b431c97021497b0c5e573e089dbb84702e761a54a5b7227202252bbb2f9de8a"
   }
  }
 },
 "nbformat": 4,
 "nbformat_minor": 1
}
